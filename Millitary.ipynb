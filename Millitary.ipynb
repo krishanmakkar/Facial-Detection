{
 "cells": [
  {
   "cell_type": "code",
   "execution_count": 1,
   "metadata": {},
   "outputs": [
    {
     "name": "stderr",
     "output_type": "stream",
     "text": [
      "Using TensorFlow backend.\n"
     ]
    }
   ],
   "source": [
    "from matplotlib import pyplot\n",
    "from PIL import Image\n",
    "from numpy import asarray\n",
    "from scipy.spatial.distance import cosine\n",
    "from mtcnn.mtcnn import MTCNN\n",
    "from keras_vggface.vggface import VGGFace\n",
    "from keras_vggface.utils import preprocess_input\n",
    "from keras.applications.inception_v3 import InceptionV3\n",
    "from keras.applications.xception import Xception\n",
    "from keras.applications.vgg19 import VGG19\n",
    "from keras.applications.densenet import DenseNet201\n",
    "from keras.applications.resnet import ResNet50\n",
    "import numpy as np\n"
   ]
  },
  {
   "cell_type": "code",
   "execution_count": 2,
   "metadata": {},
   "outputs": [],
   "source": [
    "def crop_img(img, scale=1.0):\n",
    "    center_x, center_y = img.shape[1] / 2, img.shape[0] / 2\n",
    "    width_scaled, height_scaled = img.shape[1] * scale, img.shape[0] * scale\n",
    "    left_x, right_x = center_x - width_scaled / 2, center_x + width_scaled / 2\n",
    "    top_y, bottom_y = center_y - height_scaled / 2, center_y + height_scaled / 2\n",
    "    img_cropped = img[int(top_y):int(bottom_y), int(left_x):int(right_x)]\n",
    "    return img_cropped\n"
   ]
  },
  {
   "cell_type": "code",
   "execution_count": 3,
   "metadata": {},
   "outputs": [],
   "source": [
    "def extract_face(filename, required_size=(221, 221)):\n",
    "    im = Image.open(filename)\n",
    "    im.save(filename)\n",
    "    pixels1 = pyplot.imread(filename)\n",
    "    pixels2 = crop_img(pixels1,0.9)\n",
    "    detector = MTCNN()\n",
    "    results1 =  detector.detect_faces(pixels1)\n",
    "    results2 = detector.detect_faces(pixels2)\n",
    "    if(len(results1)!=0):\n",
    "        x1, y1, width, height = results1[0]['box']\n",
    "        x2, y2 = x1+width, y1+width\n",
    "        face = pixels1[y1:y2, x1:x2]\n",
    "    elif(len(results2)!=0):\n",
    "        x1, y1, width, height = results2[0]['box']\n",
    "        x2, y2 = x1+width, y1+width\n",
    "        face = pixels2[y1:y2, x1:x2]\n",
    "    else:\n",
    "        face = pixels2\n",
    "    image = Image.fromarray(face)\n",
    "    image = image.resize(required_size)\n",
    "    face_array = asarray(image)\n",
    "    return face_array"
   ]
  },
  {
   "cell_type": "code",
   "execution_count": 46,
   "metadata": {},
   "outputs": [
    {
     "data": {
      "text/plain": [
       "(221, 221, 3)"
      ]
     },
     "execution_count": 46,
     "metadata": {},
     "output_type": "execute_result"
    }
   ],
   "source": [
    "x = extract_face('SET5-1.jpg')\n",
    "np.shape(x)"
   ]
  },
  {
   "cell_type": "code",
   "execution_count": 4,
   "metadata": {},
   "outputs": [],
   "source": [
    "filenames_train = ['SET1-1.jpg', 'SET1-2.jpg',\n",
    "                   'SET2-1.jpg','SET2-2.jpg',\n",
    "                   'SET3-1.jpg',\n",
    "                   'SET4-1.jpg',\n",
    "                   'SET5-1.jpg',\n",
    "                   'SET6-1.jpg','SET6-2.jpg','SET6-3.jpg',\n",
    "                   'SET7-1.jpg', 'SET7-2.jpg',\n",
    "                   'SET8-1.jpg','SET8-2.jpg']\n",
    "filenames_test = ['SET1-3.jpg','SET2-3.jpg','SET3-1.jpg','SET3-2.jpg','SET3-3.jpg'\n",
    "                 'SET4-1.jpg','SET4-2.jpg','SET5-2.jpg','SET6-4.jpg','SET6-5.jpg',\n",
    "                 'SET7-3.jpg','SET8-3.jpg','SET8-4.jpg']\n"
   ]
  },
  {
   "cell_type": "code",
   "execution_count": 5,
   "metadata": {},
   "outputs": [],
   "source": [
    "def get_embeddings(filenames):\n",
    "\tfaces = [extract_face(f) for f in filenames]\n",
    "\tsamples = asarray(faces, 'float32')\n",
    "\tsamples = preprocess_input(samples, version=2)\n",
    "\tmodel = VGGFace(model = 'resnet50',include_top=False, input_shape=(221, 221, 3), pooling='avg')\n",
    "\tyhat = model.predict(samples)\n",
    "\treturn yhat\n",
    "\n",
    "    "
   ]
  },
  {
   "cell_type": "code",
   "execution_count": 1,
   "metadata": {},
   "outputs": [],
   "source": [
    "#embeddings = get_embeddings(filenames_train)\n",
    "#np.shape(embeddings)\n"
   ]
  },
  {
   "cell_type": "code",
   "execution_count": 201,
   "metadata": {},
   "outputs": [],
   "source": [
    "def compare_image(image,embedding,database) :\n",
    "    scores = []\n",
    "    scores_sorted = []\n",
    "    temp = get_embeddings(image)\n",
    "    for i in range (14) :\n",
    "        score = cosine(temp,embedding[i][:2048])\n",
    "        scores.append(score) \n",
    "        scores_sorted.append(score)\n",
    "    scores_sorted.sort()\n",
    "    min = scores_sorted[0]\n",
    "    min2 = scores_sorted[1]\n",
    "    min3 = scores_sorted[2]\n",
    "    for i in range (14) :\n",
    "        if(scores[i]==min) :\n",
    "            min_index = i\n",
    "    for j in range(14) :\n",
    "        if(scores[j]==min2) :\n",
    "            min2_index = j\n",
    "    for k in range(14) :\n",
    "        if(scores[k]==min3) :\n",
    "            min3_index = k\n",
    "    print('Closest Match is ' + database[min_index])\n",
    "    print('Second Closest Match is ' + database[min2_index])\n",
    "    print('Third Closest Match is ' + database[min3_index])\n",
    "    return scores\n",
    "    \n",
    "    \n",
    "        "
   ]
  },
  {
   "cell_type": "code",
   "execution_count": 202,
   "metadata": {},
   "outputs": [
    {
     "name": "stdout",
     "output_type": "stream",
     "text": [
      "Closest Match is SET1-2.jpg\n",
      "Second Closest Match is SET1-1.jpg\n",
      "Third Closest Match is SET5-1.jpg\n"
     ]
    },
    {
     "data": {
      "text/plain": [
       "[0.45622456073760986,\n",
       " 0.3111304044723511,\n",
       " 0.6836489140987396,\n",
       " 0.6695604920387268,\n",
       " 0.6745110154151917,\n",
       " 0.8411723077297211,\n",
       " 0.4626862406730652,\n",
       " 0.47145551443099976,\n",
       " 0.5840512812137604,\n",
       " 0.5786882638931274,\n",
       " 0.6156908571720123,\n",
       " 0.6376791000366211,\n",
       " 0.7152561843395233,\n",
       " 0.6304906904697418]"
      ]
     },
     "execution_count": 202,
     "metadata": {},
     "output_type": "execute_result"
    }
   ],
   "source": [
    "compare_image(['SET1-3.jpg'],embeddings,filenames_train)"
   ]
  },
  {
   "cell_type": "code",
   "execution_count": 203,
   "metadata": {},
   "outputs": [
    {
     "name": "stdout",
     "output_type": "stream",
     "text": [
      "Closest Match is SET5-1.jpg\n",
      "Second Closest Match is SET7-2.jpg\n",
      "Third Closest Match is SET7-1.jpg\n"
     ]
    },
    {
     "data": {
      "text/plain": [
       "[0.6795138716697693,\n",
       " 0.555750697851181,\n",
       " 0.5021273195743561,\n",
       " 0.5015436410903931,\n",
       " 0.6245613396167755,\n",
       " 0.7885712087154388,\n",
       " 0.25398778915405273,\n",
       " 0.5959092378616333,\n",
       " 0.5255768597126007,\n",
       " 0.5546070337295532,\n",
       " 0.4916255474090576,\n",
       " 0.4765915870666504,\n",
       " 0.616051435470581,\n",
       " 0.5996021032333374]"
      ]
     },
     "execution_count": 203,
     "metadata": {},
     "output_type": "execute_result"
    }
   ],
   "source": [
    "compare_image(['SET5-2.jpg'],embeddings,filenames_train)"
   ]
  },
  {
   "cell_type": "code",
   "execution_count": 204,
   "metadata": {},
   "outputs": [
    {
     "name": "stdout",
     "output_type": "stream",
     "text": [
      "Closest Match is SET1-1.jpg\n",
      "Second Closest Match is SET6-1.jpg\n",
      "Third Closest Match is SET8-2.jpg\n"
     ]
    },
    {
     "data": {
      "text/plain": [
       "[0.37314313650131226,\n",
       " 0.6091766357421875,\n",
       " 0.716007649898529,\n",
       " 0.7279329001903534,\n",
       " 0.6032130718231201,\n",
       " 0.719780445098877,\n",
       " 0.6509214043617249,\n",
       " 0.5483841001987457,\n",
       " 0.603433221578598,\n",
       " 0.5980812013149261,\n",
       " 0.628361850976944,\n",
       " 0.7440941333770752,\n",
       " 0.5996004045009613,\n",
       " 0.5949856638908386]"
      ]
     },
     "execution_count": 204,
     "metadata": {},
     "output_type": "execute_result"
    }
   ],
   "source": [
    "compare_image(['SET4-2.jpg'],embeddings,filenames_train)"
   ]
  },
  {
   "cell_type": "code",
   "execution_count": 205,
   "metadata": {},
   "outputs": [
    {
     "name": "stdout",
     "output_type": "stream",
     "text": [
      "Closest Match is SET8-1.jpg\n",
      "Second Closest Match is SET7-2.jpg\n",
      "Third Closest Match is SET7-1.jpg\n"
     ]
    },
    {
     "data": {
      "text/plain": [
       "[0.7477725744247437,\n",
       " 0.6660804748535156,\n",
       " 0.5044647455215454,\n",
       " 0.5633326172828674,\n",
       " 0.6008695662021637,\n",
       " 0.7686911970376968,\n",
       " 0.5946629643440247,\n",
       " 0.662468284368515,\n",
       " 0.7255277037620544,\n",
       " 0.5912169218063354,\n",
       " 0.4493430256843567,\n",
       " 0.4334683418273926,\n",
       " 0.39284390211105347,\n",
       " 0.503472238779068]"
      ]
     },
     "execution_count": 205,
     "metadata": {},
     "output_type": "execute_result"
    }
   ],
   "source": [
    "compare_image(['SET7-3.jpg'],embeddings,filenames_train)"
   ]
  },
  {
   "cell_type": "code",
   "execution_count": 208,
   "metadata": {},
   "outputs": [
    {
     "name": "stdout",
     "output_type": "stream",
     "text": [
      "Closest Match is SET6-2.jpg\n",
      "Second Closest Match is SET6-3.jpg\n",
      "Third Closest Match is SET1-2.jpg\n"
     ]
    },
    {
     "data": {
      "text/plain": [
       "[0.543557733297348,\n",
       " 0.4443458914756775,\n",
       " 0.47882336378097534,\n",
       " 0.5189211070537567,\n",
       " 0.5327054262161255,\n",
       " 0.6912963092327118,\n",
       " 0.5210455060005188,\n",
       " 0.5488591194152832,\n",
       " 0.3350468873977661,\n",
       " 0.43850165605545044,\n",
       " 0.6099504828453064,\n",
       " 0.4592796564102173,\n",
       " 0.5378525853157043,\n",
       " 0.5606588125228882]"
      ]
     },
     "execution_count": 208,
     "metadata": {},
     "output_type": "execute_result"
    }
   ],
   "source": [
    "compare_image(['SET6-4.jpg'],embeddings,filenames_train)"
   ]
  },
  {
   "cell_type": "code",
   "execution_count": 146,
   "metadata": {},
   "outputs": [
    {
     "name": "stdout",
     "output_type": "stream",
     "text": [
      "[0.3111304044723511, 0.45622456073760986, 0.4626862406730652, 0.47145551443099976, 0.5786882638931274, 0.5840512812137604, 0.6156908571720123, 0.6304906904697418, 0.6376791000366211, 0.6695604920387268, 0.6745110154151917, 0.6836489140987396, 0.7152561843395233, 0.8411723077297211]\n"
     ]
    }
   ],
   "source": []
  },
  {
   "cell_type": "code",
   "execution_count": 99,
   "metadata": {},
   "outputs": [],
   "source": [
    "def is_match(known_embedding, candidate_embedding, thresh=0.5):\n",
    "\tscore = cosine(known_embedding, candidate_embedding)\n",
    "\tif score <= thresh:\n",
    "\t\tprint('>face is a Match (%.3f <= %.3f)' % (score, thresh))\n",
    "\telse:\n",
    "\t\tprint('>face is NOT a Match (%.3f > %.3f)' % (score, thresh))"
   ]
  },
  {
   "cell_type": "code",
   "execution_count": 103,
   "metadata": {},
   "outputs": [],
   "source": [
    "filenames = ['SET1-1.jpg', 'SET1-2.jpg',\n",
    "\t'SET1-3.jpg', 'SET2-1.jpg','SET3-1.jpg','SET3-2.jpg','SET3-3.jpg','SET4-2.jpg',\n",
    "    'SET5-2.jpg','SET6-1.jpg','SET6-2.jpg','SET6-3.jpg','SET6-4.jpg','SET6-5.jpg','SET7-1.jpg',\n",
    "    'SET7-2.jpg','SET7-3.jpg','SET8-1.jpg','SET8-2.jpg','SET8-3.jpg','SET8-4.jpg']\n",
    "embeddings = get_embeddings(filenames)\n",
    "#sharon_id = embeddings[0]\n",
    "def score(known,candidate) :\n",
    "    val1 = np.sqrt(np.sum(np.square(np.subtract(known,candidate))))\n",
    "    return val1\n",
    "def score2(known,candidate) :\n",
    "    val2 = cosine(known,candidate)\n",
    "    return val2\n",
    "#print(score)\n",
    "total = 0\n",
    "total = score(embeddings[0], embeddings[1]) +score(embeddings[0], embeddings[2])  +score(embeddings[1],embeddings[2]) +score(embeddings[4], embeddings[5])  +score(embeddings[4], embeddings[6])  +score(embeddings[5],embeddings[6])  +score(embeddings[9],embeddings[10]) +score(embeddings[9],embeddings[11]) +score(embeddings[9],embeddings[12]) +score(embeddings[9],embeddings[13]) +score(embeddings[10],embeddings[11]) +score(embeddings[10],embeddings[12]) +score(embeddings[10],embeddings[13]) +score(embeddings[11],embeddings[12]) +score(embeddings[11],embeddings[13]) +score(embeddings[12],embeddings[13]) +score(embeddings[14],embeddings[15]) +score(embeddings[14],embeddings[16]) +score(embeddings[15],embeddings[16]) +score(embeddings[17],embeddings[18]) +score(embeddings[17],embeddings[19]) +score(embeddings[17],embeddings[20]) +score(embeddings[18],embeddings[19]) +score(embeddings[18],embeddings[20]) +score(embeddings[19],embeddings[20]) \n",
    "avg = total/25\n",
    "#pos_diff.append(avg)\n",
    "\n"
   ]
  },
  {
   "cell_type": "code",
   "execution_count": 87,
   "metadata": {},
   "outputs": [],
   "source": [
    "pos_diff = []\n",
    "neg_diff = [] "
   ]
  },
  {
   "cell_type": "code",
   "execution_count": 104,
   "metadata": {},
   "outputs": [
    {
     "name": "stdout",
     "output_type": "stream",
     "text": [
      "106.92357421875\n"
     ]
    }
   ],
   "source": [
    "print(avg)"
   ]
  },
  {
   "cell_type": "code",
   "execution_count": 105,
   "metadata": {},
   "outputs": [],
   "source": [
    "total2 = score(embeddings[0], embeddings[10]) +score(embeddings[1], embeddings[9])  +score(embeddings[3],embeddings[7]) +score(embeddings[4], embeddings[12])  +score(embeddings[4], embeddings[18])  +score(embeddings[6],embeddings[11])  +score(embeddings[5],embeddings[1]) +score(embeddings[7],embeddings[13]) +score(embeddings[2],embeddings[8]) +score(embeddings[5],embeddings[16]) +score(embeddings[10],embeddings[15]) +score(embeddings[12],embeddings[19]) +score(embeddings[13],embeddings[18]) +score(embeddings[14],embeddings[9]) +score(embeddings[20],embeddings[11]) +score(embeddings[3],embeddings[15]) +score(embeddings[14],embeddings[19]) +score(embeddings[9],embeddings[16]) +score(embeddings[15],embeddings[1]) +score(embeddings[17],embeddings[6]) +score(embeddings[12],embeddings[4]) +score(embeddings[5],embeddings[20]) +score(embeddings[18],embeddings[8]) +score(embeddings[12],embeddings[20]) +score(embeddings[19],embeddings[13])              "
   ]
  },
  {
   "cell_type": "code",
   "execution_count": 106,
   "metadata": {},
   "outputs": [
    {
     "name": "stdout",
     "output_type": "stream",
     "text": [
      "Average Negative Similarity Score : (128.623613)\n"
     ]
    }
   ],
   "source": [
    "avg2 = total2 / 25\n",
    "print('Average Negative Similarity Score : (%f)' %(avg2))\n",
    "#neg_diff.append(avg2)"
   ]
  },
  {
   "cell_type": "code",
   "execution_count": 92,
   "metadata": {},
   "outputs": [
    {
     "data": {
      "text/plain": [
       "[0.3615408968925476]"
      ]
     },
     "execution_count": 92,
     "metadata": {},
     "output_type": "execute_result"
    }
   ],
   "source": [
    "neg_diff"
   ]
  },
  {
   "cell_type": "code",
   "execution_count": 3,
   "metadata": {},
   "outputs": [],
   "source": [
    "Pos_scores = []\n",
    "Neg_scores = []\n",
    "def get_embeddings(filenames):\n",
    "\tfaces = [extract_face(f) for f in filenames]\n",
    "\tsamples = asarray(faces, 'float32')\n",
    "\tsamples = preprocess_input(samples, version=2)\n",
    "\tmodel = VGGFace(model = 'resnet50',include_top=False, input_shape=(i,i, 3), pooling='avg')\n",
    "\tyhat = model.predict(samples)\n",
    "\treturn yhat\n",
    "def extract_face(filename):\n",
    "\tpixels = pyplot.imread(filename)\n",
    "\tdetector = MTCNN()\n",
    "\tresults = detector.detect_faces(pixels)\n",
    "\tx1, y1, width, height = results[0]['box']\n",
    "\tx2, y2 = x1 + width, y1 + height\n",
    "\tface = pixels[y1:y2, x1:x2]\n",
    "\timage = Image.fromarray(face)\n",
    "\timage = image.resize((i,i))\n",
    "\tface_array = asarray(image)\n",
    "\treturn face_array\n",
    "\n"
   ]
  },
  {
   "cell_type": "code",
   "execution_count": 58,
   "metadata": {},
   "outputs": [],
   "source": [
    "Pos_scores1 = []\n",
    "for i in range(200,300) :\n",
    "    embeddings = get_embeddings(filenames)\n",
    "    total_pos = score(embeddings[0], embeddings[1]) +score(embeddings[0], embeddings[2])  +score(embeddings[1],embeddings[2]) +score(embeddings[4], embeddings[5])  +score(embeddings[4], embeddings[6])  +score(embeddings[5],embeddings[6])  +score(embeddings[9],embeddings[10]) +score(embeddings[9],embeddings[11]) +score(embeddings[9],embeddings[12]) +score(embeddings[9],embeddings[13]) +score(embeddings[10],embeddings[11]) +score(embeddings[10],embeddings[12]) +score(embeddings[10],embeddings[13]) +score(embeddings[11],embeddings[12]) +score(embeddings[11],embeddings[13]) +score(embeddings[12],embeddings[13]) +score(embeddings[14],embeddings[15]) +score(embeddings[14],embeddings[16]) +score(embeddings[15],embeddings[16]) +score(embeddings[17],embeddings[18]) +score(embeddings[17],embeddings[19]) +score(embeddings[17],embeddings[20]) +score(embeddings[18],embeddings[19]) +score(embeddings[18],embeddings[20]) +score(embeddings[19],embeddings[20])\n",
    "    avg_pos = total_pos/25\n",
    "    Pos_scores1.append(avg_pos)\n",
    "    total_neg = score(embeddings[0], embeddings[10]) +score(embeddings[1], embeddings[9])  +score(embeddings[3],embeddings[7]) +score(embeddings[4], embeddings[12])  +score(embeddings[4], embeddings[18])  +score(embeddings[6],embeddings[11])  +score(embeddings[5],embeddings[1]) +score(embeddings[7],embeddings[13]) +score(embeddings[2],embeddings[8]) +score(embeddings[5],embeddings[16]) +score(embeddings[10],embeddings[15]) +score(embeddings[12],embeddings[19]) +score(embeddings[13],embeddings[18]) +score(embeddings[14],embeddings[9]) +score(embeddings[20],embeddings[11]) +score(embeddings[3],embeddings[15]) +score(embeddings[14],embeddings[19]) +score(embeddings[9],embeddings[16]) +score(embeddings[15],embeddings[1]) +score(embeddings[17],embeddings[6]) +score(embeddings[12],embeddings[4]) +score(embeddings[5],embeddings[20]) +score(embeddings[18],embeddings[8]) +score(embeddings[12],embeddings[20]) +score(embeddings[19],embeddings[13]) + score(embeddings[2],embeddings[12]) + score(embeddings[20],embeddings[1]) + score(embeddings[13],embeddings[3]) + score(embeddings[6],embeddings[19]) + score(embeddings[17],embeddings[3])\n",
    "    avg_neg = total_neg/30\n",
    "    Neg_scores.append(avg_neg)\n",
    "    embeddings.fill(0)\n",
    "    "
   ]
  },
  {
   "cell_type": "markdown",
   "metadata": {},
   "source": [
    "Pos_scores1"
   ]
  },
  {
   "cell_type": "code",
   "execution_count": 62,
   "metadata": {},
   "outputs": [
    {
     "data": {
      "text/plain": [
       "101"
      ]
     },
     "execution_count": 62,
     "metadata": {},
     "output_type": "execute_result"
    }
   ],
   "source": [
    "Pos_scores_new = Pos_scores1 + Pos_scores\n",
    "len(Pos_scores_new)"
   ]
  },
  {
   "cell_type": "code",
   "execution_count": 36,
   "metadata": {},
   "outputs": [
    {
     "name": "stdout",
     "output_type": "stream",
     "text": [
      "[200, 201, 202, 203, 204, 205, 206, 207, 208, 209, 210, 211, 212, 213, 214, 215, 216, 217, 218, 219, 220, 221, 222, 223, 224, 225, 226, 227, 228, 229, 230, 231, 232, 233, 234, 235, 236, 237, 238, 239, 240, 241, 242, 243, 244, 245, 246, 247, 248, 249, 250, 251, 252, 253, 254, 255, 256, 257, 258, 259, 260, 261, 262, 263, 264, 265, 266, 267, 268, 269, 270, 271, 272, 273, 274, 275, 276, 277, 278, 279, 280, 281, 282, 283, 284, 285, 286, 287, 288, 289, 290, 291, 292, 293, 294, 295, 296, 297, 298, 299, 300]\n"
     ]
    }
   ],
   "source": [
    "import matplotlib.pyplot as plt\n",
    "resolutions = []\n",
    "for i in range (200,301) :\n",
    "    resolutions.append(i)\n",
    "print(resolutions)"
   ]
  },
  {
   "cell_type": "code",
   "execution_count": 49,
   "metadata": {},
   "outputs": [],
   "source": [
    "del Pos_scores[0:5]\n",
    "del Neg_scores[0:5]"
   ]
  },
  {
   "cell_type": "code",
   "execution_count": 71,
   "metadata": {},
   "outputs": [
    {
     "data": {
      "image/png": "[encoded data removed]",
      "text/plain": [
       "<Figure size 432x288 with 1 Axes>"
      ]
     },
     "metadata": {
      "needs_background": "light"
     },
     "output_type": "display_data"
    }
   ],
   "source": [
    "plt.plot(resolutions,Pos_scores_new,label = 'Average Positive Similarity Score')\n",
    "plt.plot(resolutions,Neg_scores,label = 'Average Negative Similarity Score')\n",
    "plt.xlabel('Resolutions of order n*n ')\n",
    "plt.ylabel('Similarity')\n",
    "plt.title('Similarity versus different Resolution Inputs')\n",
    "plt.legend()\n",
    "plt.show()"
   ]
  },
  {
   "cell_type": "code",
   "execution_count": 77,
   "metadata": {},
   "outputs": [
    {
     "data": {
      "image/png": "[encoded data removed]",
      "text/plain": [
       "<Figure size 432x288 with 1 Axes>"
      ]
     },
     "metadata": {
      "needs_background": "light"
     },
     "output_type": "display_data"
    }
   ],
   "source": [
    "p1 = np.array(Pos_scores_new)\n",
    "n1 = np.array(Neg_scores)\n",
    "diff = np.subtract(n1,p1)\n",
    "plt.plot(resolutions,diff)\n",
    "plt.xlabel('Resolutions of order n*n')\n",
    "plt.ylabel('Difference')\n",
    "plt.title('Difference in Positive and Negative Similarity Scores vs Resolution')\n",
    "plt.show()"
   ]
  },
  {
   "cell_type": "code",
   "execution_count": 95,
   "metadata": {},
   "outputs": [
    {
     "data": {
      "text/plain": [
       "0.17791428824265793"
      ]
     },
     "execution_count": 95,
     "metadata": {},
     "output_type": "execute_result"
    }
   ],
   "source": [
    "max(diff)\n"
   ]
  }
 ],
 "metadata": {
  "kernelspec": {
   "display_name": "Python 3",
   "language": "python",
   "name": "python3"
  },
  "language_info": {
   "codemirror_mode": {
    "name": "ipython",
    "version": 3
   },
   "file_extension": ".py",
   "mimetype": "text/x-python",
   "name": "python",
   "nbconvert_exporter": "python",
   "pygments_lexer": "ipython3",
   "version": "3.7.3"
  }
 },
 "nbformat": 4,
 "nbformat_minor": 4
}
